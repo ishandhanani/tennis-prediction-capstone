{
 "cells": [
  {
   "cell_type": "code",
   "execution_count": 1,
   "metadata": {},
   "outputs": [],
   "source": [
    "import pandas as pd\n",
    "import numpy as np\n",
    "from sklearn.model_selection import train_test_split\n",
    "from sklearn.preprocessing import LabelEncoder"
   ]
  },
  {
   "cell_type": "code",
   "execution_count": 4,
   "metadata": {},
   "outputs": [],
   "source": [
    "engin = pd.read_csv(\"nonsparsetheta.csv\")\n",
    "engin = engin.drop('Unnamed: 0', axis=1)\n",
    "engin['y'] = np.where(engin['target'] == engin['player1_name'],\n",
    "                              'player1',\n",
    "                              'player2')\n",
    "m = {\"player1\": 0, \"player2\": 1}\n",
    "engin['maptarget'] = engin['y'].map(m)\n",
    "engin = engin.drop('y', axis=1)"
   ]
  },
  {
   "cell_type": "code",
   "execution_count": 5,
   "metadata": {},
   "outputs": [],
   "source": [
    "engin.columns\n",
    "enginx = engin[[\n",
    "    \"player1_age\", \n",
    "    \"player2_age\", \n",
    "    \"player1_ht\", \n",
    "    \"player2_ht\", \n",
    "    \"player1_rank\", \n",
    "    \"player2_rank\", \n",
    "    \"player1_h2h\", \n",
    "    \"player2_h2h\",\n",
    "    \"surface\", \n",
    "    \"tourney_level\",\n",
    "    \"player_1_recent_form\",\n",
    "    \"player_2_recent_form\",\n",
    "    \"player_1_theta_form\",\n",
    "    \"player_2_theta_form\",\n",
    "    'player1_surface_win_pct', \n",
    "    'player2_surface_win_pct',\n",
    "    'player1_level_win_pct', \n",
    "    'player2_level_win_pct',]]\n",
    "enginy = engin['maptarget']"
   ]
  },
  {
   "cell_type": "code",
   "execution_count": 7,
   "metadata": {},
   "outputs": [
    {
     "name": "stderr",
     "output_type": "stream",
     "text": [
      "/var/folders/f8/n3c9f3d91gl0y1xv3gycqn8c0000gn/T/ipykernel_136/2338595702.py:2: SettingWithCopyWarning: \n",
      "A value is trying to be set on a copy of a slice from a DataFrame.\n",
      "Try using .loc[row_indexer,col_indexer] = value instead\n",
      "\n",
      "See the caveats in the documentation: https://pandas.pydata.org/pandas-docs/stable/user_guide/indexing.html#returning-a-view-versus-a-copy\n",
      "  enginx['surface'] = le.fit_transform(enginx['surface'])\n",
      "/var/folders/f8/n3c9f3d91gl0y1xv3gycqn8c0000gn/T/ipykernel_136/2338595702.py:3: SettingWithCopyWarning: \n",
      "A value is trying to be set on a copy of a slice from a DataFrame.\n",
      "Try using .loc[row_indexer,col_indexer] = value instead\n",
      "\n",
      "See the caveats in the documentation: https://pandas.pydata.org/pandas-docs/stable/user_guide/indexing.html#returning-a-view-versus-a-copy\n",
      "  enginx['tourney_level'] = le.fit_transform(enginx['tourney_level'])\n"
     ]
    }
   ],
   "source": [
    "le = LabelEncoder()\n",
    "enginx['surface'] = le.fit_transform(enginx['surface'])\n",
    "enginx['tourney_level'] = le.fit_transform(enginx['tourney_level'])"
   ]
  },
  {
   "cell_type": "code",
   "execution_count": 8,
   "metadata": {},
   "outputs": [],
   "source": [
    "engintrainx, engintestx, engintrainy, engintesty = train_test_split(enginx, enginy, test_size=0.25, random_state=5323)"
   ]
  },
  {
   "cell_type": "code",
   "execution_count": 9,
   "metadata": {},
   "outputs": [],
   "source": [
    "from sklearn.linear_model import LogisticRegression\n",
    "from sklearn.ensemble import RandomForestClassifier\n",
    "import xgboost\n",
    "from sklearn.neighbors import KNeighborsClassifier\n",
    "from sklearn.preprocessing import LabelEncoder\n",
    "from sklearn.model_selection import cross_validate\n",
    "from sklearn.preprocessing import StandardScaler"
   ]
  },
  {
   "cell_type": "code",
   "execution_count": 10,
   "metadata": {},
   "outputs": [],
   "source": [
    "def cv(model, X, y, cv=100):\n",
    "    scoring = ['accuracy', 'precision', 'recall', 'f1']\n",
    "    results = cross_validate(estimator=model,\n",
    "                             X = X,\n",
    "                             y = y,\n",
    "                             cv=cv,\n",
    "                             scoring=scoring,\n",
    "                             return_train_score=True,\n",
    "                             return_estimator=True)\n",
    "    return {\n",
    "            \"Mean Training Accuracy\": results['train_accuracy'].mean()*100,\n",
    "            \"Mean Training Precision\": results['train_precision'].mean(),\n",
    "            \"Mean Training Recall\": results['train_recall'].mean(),\n",
    "            \"Mean Training F1 Score\": results['train_f1'].mean(),\n",
    "            \"Mean Validation Accuracy\": results['test_accuracy'].mean()*100,\n",
    "            \"Mean Validation Precision\": results['test_precision'].mean(),\n",
    "            \"Mean Validation Recall\": results['test_recall'].mean(),\n",
    "            \"Mean Validation F1 Score\": results['test_f1'].mean(),\n",
    "            \"model\": results\n",
    "            }"
   ]
  },
  {
   "cell_type": "code",
   "execution_count": 11,
   "metadata": {},
   "outputs": [],
   "source": [
    "logit = LogisticRegression(solver='liblinear')\n",
    "logit_result = cv(logit, X=engintrainx, y = engintrainy, cv=5)"
   ]
  },
  {
   "cell_type": "code",
   "execution_count": null,
   "metadata": {},
   "outputs": [],
   "source": [
    "logit_result"
   ]
  },
  {
   "cell_type": "code",
   "execution_count": 13,
   "metadata": {},
   "outputs": [
    {
     "name": "stdout",
     "output_type": "stream",
     "text": [
      "Fitting 3 folds for each of 2 candidates, totalling 6 fits\n",
      "[CV] END bootstrap=False, max_depth=30, max_features=sqrt, min_samples_leaf=4, min_samples_split=10, n_estimators=600; total time=  15.6s\n",
      "[CV] END bootstrap=False, max_depth=30, max_features=sqrt, min_samples_leaf=4, min_samples_split=10, n_estimators=600; total time=  15.6s\n",
      "[CV] END bootstrap=False, max_depth=30, max_features=sqrt, min_samples_leaf=4, min_samples_split=10, n_estimators=600; total time=  15.6s\n",
      "[CV] END bootstrap=False, max_depth=20, max_features=sqrt, min_samples_leaf=4, min_samples_split=5, n_estimators=1000; total time=  25.9s\n",
      "[CV] END bootstrap=False, max_depth=20, max_features=sqrt, min_samples_leaf=4, min_samples_split=5, n_estimators=1000; total time=  26.2s\n",
      "[CV] END bootstrap=False, max_depth=20, max_features=sqrt, min_samples_leaf=4, min_samples_split=5, n_estimators=1000; total time=  26.3s\n"
     ]
    },
    {
     "data": {
      "text/html": [
       "<style>#sk-container-id-1 {color: black;background-color: white;}#sk-container-id-1 pre{padding: 0;}#sk-container-id-1 div.sk-toggleable {background-color: white;}#sk-container-id-1 label.sk-toggleable__label {cursor: pointer;display: block;width: 100%;margin-bottom: 0;padding: 0.3em;box-sizing: border-box;text-align: center;}#sk-container-id-1 label.sk-toggleable__label-arrow:before {content: \"▸\";float: left;margin-right: 0.25em;color: #696969;}#sk-container-id-1 label.sk-toggleable__label-arrow:hover:before {color: black;}#sk-container-id-1 div.sk-estimator:hover label.sk-toggleable__label-arrow:before {color: black;}#sk-container-id-1 div.sk-toggleable__content {max-height: 0;max-width: 0;overflow: hidden;text-align: left;background-color: #f0f8ff;}#sk-container-id-1 div.sk-toggleable__content pre {margin: 0.2em;color: black;border-radius: 0.25em;background-color: #f0f8ff;}#sk-container-id-1 input.sk-toggleable__control:checked~div.sk-toggleable__content {max-height: 200px;max-width: 100%;overflow: auto;}#sk-container-id-1 input.sk-toggleable__control:checked~label.sk-toggleable__label-arrow:before {content: \"▾\";}#sk-container-id-1 div.sk-estimator input.sk-toggleable__control:checked~label.sk-toggleable__label {background-color: #d4ebff;}#sk-container-id-1 div.sk-label input.sk-toggleable__control:checked~label.sk-toggleable__label {background-color: #d4ebff;}#sk-container-id-1 input.sk-hidden--visually {border: 0;clip: rect(1px 1px 1px 1px);clip: rect(1px, 1px, 1px, 1px);height: 1px;margin: -1px;overflow: hidden;padding: 0;position: absolute;width: 1px;}#sk-container-id-1 div.sk-estimator {font-family: monospace;background-color: #f0f8ff;border: 1px dotted black;border-radius: 0.25em;box-sizing: border-box;margin-bottom: 0.5em;}#sk-container-id-1 div.sk-estimator:hover {background-color: #d4ebff;}#sk-container-id-1 div.sk-parallel-item::after {content: \"\";width: 100%;border-bottom: 1px solid gray;flex-grow: 1;}#sk-container-id-1 div.sk-label:hover label.sk-toggleable__label {background-color: #d4ebff;}#sk-container-id-1 div.sk-serial::before {content: \"\";position: absolute;border-left: 1px solid gray;box-sizing: border-box;top: 0;bottom: 0;left: 50%;z-index: 0;}#sk-container-id-1 div.sk-serial {display: flex;flex-direction: column;align-items: center;background-color: white;padding-right: 0.2em;padding-left: 0.2em;position: relative;}#sk-container-id-1 div.sk-item {position: relative;z-index: 1;}#sk-container-id-1 div.sk-parallel {display: flex;align-items: stretch;justify-content: center;background-color: white;position: relative;}#sk-container-id-1 div.sk-item::before, #sk-container-id-1 div.sk-parallel-item::before {content: \"\";position: absolute;border-left: 1px solid gray;box-sizing: border-box;top: 0;bottom: 0;left: 50%;z-index: -1;}#sk-container-id-1 div.sk-parallel-item {display: flex;flex-direction: column;z-index: 1;position: relative;background-color: white;}#sk-container-id-1 div.sk-parallel-item:first-child::after {align-self: flex-end;width: 50%;}#sk-container-id-1 div.sk-parallel-item:last-child::after {align-self: flex-start;width: 50%;}#sk-container-id-1 div.sk-parallel-item:only-child::after {width: 0;}#sk-container-id-1 div.sk-dashed-wrapped {border: 1px dashed gray;margin: 0 0.4em 0.5em 0.4em;box-sizing: border-box;padding-bottom: 0.4em;background-color: white;}#sk-container-id-1 div.sk-label label {font-family: monospace;font-weight: bold;display: inline-block;line-height: 1.2em;}#sk-container-id-1 div.sk-label-container {text-align: center;}#sk-container-id-1 div.sk-container {/* jupyter's `normalize.less` sets `[hidden] { display: none; }` but bootstrap.min.css set `[hidden] { display: none !important; }` so we also need the `!important` here to be able to override the default hidden behavior on the sphinx rendered scikit-learn.org. See: https://github.com/scikit-learn/scikit-learn/issues/21755 */display: inline-block !important;position: relative;}#sk-container-id-1 div.sk-text-repr-fallback {display: none;}</style><div id=\"sk-container-id-1\" class=\"sk-top-container\"><div class=\"sk-text-repr-fallback\"><pre>RandomizedSearchCV(cv=3, estimator=RandomForestClassifier(), n_iter=2,\n",
       "                   param_distributions={&#x27;bootstrap&#x27;: [False],\n",
       "                                        &#x27;max_depth&#x27;: [10, 20, 30, 40, 50, 60,\n",
       "                                                      70, 80, 90, 100, 110,\n",
       "                                                      None],\n",
       "                                        &#x27;max_features&#x27;: [&#x27;sqrt&#x27;],\n",
       "                                        &#x27;min_samples_leaf&#x27;: [1, 2, 4],\n",
       "                                        &#x27;min_samples_split&#x27;: [2, 5, 10],\n",
       "                                        &#x27;n_estimators&#x27;: [200, 400, 600, 800,\n",
       "                                                         1000, 1200, 1400, 1600,\n",
       "                                                         1800, 2000]},\n",
       "                   random_state=5323, verbose=2)</pre><b>In a Jupyter environment, please rerun this cell to show the HTML representation or trust the notebook. <br />On GitHub, the HTML representation is unable to render, please try loading this page with nbviewer.org.</b></div><div class=\"sk-container\" hidden><div class=\"sk-item sk-dashed-wrapped\"><div class=\"sk-label-container\"><div class=\"sk-label sk-toggleable\"><input class=\"sk-toggleable__control sk-hidden--visually\" id=\"sk-estimator-id-1\" type=\"checkbox\" ><label for=\"sk-estimator-id-1\" class=\"sk-toggleable__label sk-toggleable__label-arrow\">RandomizedSearchCV</label><div class=\"sk-toggleable__content\"><pre>RandomizedSearchCV(cv=3, estimator=RandomForestClassifier(), n_iter=2,\n",
       "                   param_distributions={&#x27;bootstrap&#x27;: [False],\n",
       "                                        &#x27;max_depth&#x27;: [10, 20, 30, 40, 50, 60,\n",
       "                                                      70, 80, 90, 100, 110,\n",
       "                                                      None],\n",
       "                                        &#x27;max_features&#x27;: [&#x27;sqrt&#x27;],\n",
       "                                        &#x27;min_samples_leaf&#x27;: [1, 2, 4],\n",
       "                                        &#x27;min_samples_split&#x27;: [2, 5, 10],\n",
       "                                        &#x27;n_estimators&#x27;: [200, 400, 600, 800,\n",
       "                                                         1000, 1200, 1400, 1600,\n",
       "                                                         1800, 2000]},\n",
       "                   random_state=5323, verbose=2)</pre></div></div></div><div class=\"sk-parallel\"><div class=\"sk-parallel-item\"><div class=\"sk-item\"><div class=\"sk-label-container\"><div class=\"sk-label sk-toggleable\"><input class=\"sk-toggleable__control sk-hidden--visually\" id=\"sk-estimator-id-2\" type=\"checkbox\" ><label for=\"sk-estimator-id-2\" class=\"sk-toggleable__label sk-toggleable__label-arrow\">estimator: RandomForestClassifier</label><div class=\"sk-toggleable__content\"><pre>RandomForestClassifier()</pre></div></div></div><div class=\"sk-serial\"><div class=\"sk-item\"><div class=\"sk-estimator sk-toggleable\"><input class=\"sk-toggleable__control sk-hidden--visually\" id=\"sk-estimator-id-3\" type=\"checkbox\" ><label for=\"sk-estimator-id-3\" class=\"sk-toggleable__label sk-toggleable__label-arrow\">RandomForestClassifier</label><div class=\"sk-toggleable__content\"><pre>RandomForestClassifier()</pre></div></div></div></div></div></div></div></div></div></div>"
      ],
      "text/plain": [
       "RandomizedSearchCV(cv=3, estimator=RandomForestClassifier(), n_iter=2,\n",
       "                   param_distributions={'bootstrap': [False],\n",
       "                                        'max_depth': [10, 20, 30, 40, 50, 60,\n",
       "                                                      70, 80, 90, 100, 110,\n",
       "                                                      None],\n",
       "                                        'max_features': ['sqrt'],\n",
       "                                        'min_samples_leaf': [1, 2, 4],\n",
       "                                        'min_samples_split': [2, 5, 10],\n",
       "                                        'n_estimators': [200, 400, 600, 800,\n",
       "                                                         1000, 1200, 1400, 1600,\n",
       "                                                         1800, 2000]},\n",
       "                   random_state=5323, verbose=2)"
      ]
     },
     "execution_count": 13,
     "metadata": {},
     "output_type": "execute_result"
    }
   ],
   "source": [
    "rf = RandomForestClassifier()\n",
    "\n",
    "#randomized grid search cv to find the best range \n",
    "from sklearn.model_selection import RandomizedSearchCV\n",
    "n_estimators = [int(x) for x in np.linspace(start = 200, stop = 2000, num = 10)]\n",
    "max_features = ['sqrt']\n",
    "max_depth = [int(x) for x in np.linspace(10, 110, num = 11)]\n",
    "max_depth.append(None)\n",
    "min_samples_split = [2, 5, 10]\n",
    "min_samples_leaf = [1, 2, 4]\n",
    "bootstrap = [False]\n",
    "\n",
    "randomgrid = {'n_estimators': n_estimators,\n",
    "               'max_features': max_features,\n",
    "               'max_depth': max_depth,\n",
    "               'min_samples_split': min_samples_split,\n",
    "               'min_samples_leaf': min_samples_leaf,\n",
    "               'bootstrap': bootstrap}\n",
    "\n",
    "rf_random = RandomizedSearchCV(estimator = rf, param_distributions = randomgrid, n_iter = 2, cv = 3, verbose=2, random_state=5323)\n",
    "rf_random.fit(engintrainx, engintrainy)"
   ]
  },
  {
   "cell_type": "code",
   "execution_count": 14,
   "metadata": {},
   "outputs": [
    {
     "data": {
      "text/plain": [
       "{'n_estimators': 1000,\n",
       " 'min_samples_split': 5,\n",
       " 'min_samples_leaf': 4,\n",
       " 'max_features': 'sqrt',\n",
       " 'max_depth': 20,\n",
       " 'bootstrap': False}"
      ]
     },
     "execution_count": 14,
     "metadata": {},
     "output_type": "execute_result"
    }
   ],
   "source": [
    "rf_random.best_params_"
   ]
  },
  {
   "cell_type": "code",
   "execution_count": 15,
   "metadata": {},
   "outputs": [
    {
     "data": {
      "text/html": [
       "<style>#sk-container-id-2 {color: black;background-color: white;}#sk-container-id-2 pre{padding: 0;}#sk-container-id-2 div.sk-toggleable {background-color: white;}#sk-container-id-2 label.sk-toggleable__label {cursor: pointer;display: block;width: 100%;margin-bottom: 0;padding: 0.3em;box-sizing: border-box;text-align: center;}#sk-container-id-2 label.sk-toggleable__label-arrow:before {content: \"▸\";float: left;margin-right: 0.25em;color: #696969;}#sk-container-id-2 label.sk-toggleable__label-arrow:hover:before {color: black;}#sk-container-id-2 div.sk-estimator:hover label.sk-toggleable__label-arrow:before {color: black;}#sk-container-id-2 div.sk-toggleable__content {max-height: 0;max-width: 0;overflow: hidden;text-align: left;background-color: #f0f8ff;}#sk-container-id-2 div.sk-toggleable__content pre {margin: 0.2em;color: black;border-radius: 0.25em;background-color: #f0f8ff;}#sk-container-id-2 input.sk-toggleable__control:checked~div.sk-toggleable__content {max-height: 200px;max-width: 100%;overflow: auto;}#sk-container-id-2 input.sk-toggleable__control:checked~label.sk-toggleable__label-arrow:before {content: \"▾\";}#sk-container-id-2 div.sk-estimator input.sk-toggleable__control:checked~label.sk-toggleable__label {background-color: #d4ebff;}#sk-container-id-2 div.sk-label input.sk-toggleable__control:checked~label.sk-toggleable__label {background-color: #d4ebff;}#sk-container-id-2 input.sk-hidden--visually {border: 0;clip: rect(1px 1px 1px 1px);clip: rect(1px, 1px, 1px, 1px);height: 1px;margin: -1px;overflow: hidden;padding: 0;position: absolute;width: 1px;}#sk-container-id-2 div.sk-estimator {font-family: monospace;background-color: #f0f8ff;border: 1px dotted black;border-radius: 0.25em;box-sizing: border-box;margin-bottom: 0.5em;}#sk-container-id-2 div.sk-estimator:hover {background-color: #d4ebff;}#sk-container-id-2 div.sk-parallel-item::after {content: \"\";width: 100%;border-bottom: 1px solid gray;flex-grow: 1;}#sk-container-id-2 div.sk-label:hover label.sk-toggleable__label {background-color: #d4ebff;}#sk-container-id-2 div.sk-serial::before {content: \"\";position: absolute;border-left: 1px solid gray;box-sizing: border-box;top: 0;bottom: 0;left: 50%;z-index: 0;}#sk-container-id-2 div.sk-serial {display: flex;flex-direction: column;align-items: center;background-color: white;padding-right: 0.2em;padding-left: 0.2em;position: relative;}#sk-container-id-2 div.sk-item {position: relative;z-index: 1;}#sk-container-id-2 div.sk-parallel {display: flex;align-items: stretch;justify-content: center;background-color: white;position: relative;}#sk-container-id-2 div.sk-item::before, #sk-container-id-2 div.sk-parallel-item::before {content: \"\";position: absolute;border-left: 1px solid gray;box-sizing: border-box;top: 0;bottom: 0;left: 50%;z-index: -1;}#sk-container-id-2 div.sk-parallel-item {display: flex;flex-direction: column;z-index: 1;position: relative;background-color: white;}#sk-container-id-2 div.sk-parallel-item:first-child::after {align-self: flex-end;width: 50%;}#sk-container-id-2 div.sk-parallel-item:last-child::after {align-self: flex-start;width: 50%;}#sk-container-id-2 div.sk-parallel-item:only-child::after {width: 0;}#sk-container-id-2 div.sk-dashed-wrapped {border: 1px dashed gray;margin: 0 0.4em 0.5em 0.4em;box-sizing: border-box;padding-bottom: 0.4em;background-color: white;}#sk-container-id-2 div.sk-label label {font-family: monospace;font-weight: bold;display: inline-block;line-height: 1.2em;}#sk-container-id-2 div.sk-label-container {text-align: center;}#sk-container-id-2 div.sk-container {/* jupyter's `normalize.less` sets `[hidden] { display: none; }` but bootstrap.min.css set `[hidden] { display: none !important; }` so we also need the `!important` here to be able to override the default hidden behavior on the sphinx rendered scikit-learn.org. See: https://github.com/scikit-learn/scikit-learn/issues/21755 */display: inline-block !important;position: relative;}#sk-container-id-2 div.sk-text-repr-fallback {display: none;}</style><div id=\"sk-container-id-2\" class=\"sk-top-container\"><div class=\"sk-text-repr-fallback\"><pre>RandomForestClassifier(bootstrap=False, max_depth=20, min_samples_leaf=4,\n",
       "                       min_samples_split=4, n_estimators=600)</pre><b>In a Jupyter environment, please rerun this cell to show the HTML representation or trust the notebook. <br />On GitHub, the HTML representation is unable to render, please try loading this page with nbviewer.org.</b></div><div class=\"sk-container\" hidden><div class=\"sk-item\"><div class=\"sk-estimator sk-toggleable\"><input class=\"sk-toggleable__control sk-hidden--visually\" id=\"sk-estimator-id-4\" type=\"checkbox\" checked><label for=\"sk-estimator-id-4\" class=\"sk-toggleable__label sk-toggleable__label-arrow\">RandomForestClassifier</label><div class=\"sk-toggleable__content\"><pre>RandomForestClassifier(bootstrap=False, max_depth=20, min_samples_leaf=4,\n",
       "                       min_samples_split=4, n_estimators=600)</pre></div></div></div></div></div>"
      ],
      "text/plain": [
       "RandomForestClassifier(bootstrap=False, max_depth=20, min_samples_leaf=4,\n",
       "                       min_samples_split=4, n_estimators=600)"
      ]
     },
     "execution_count": 15,
     "metadata": {},
     "output_type": "execute_result"
    }
   ],
   "source": [
    "rft = RandomForestClassifier(n_estimators=600,\n",
    "min_samples_split=4,\n",
    "min_samples_leaf=4,\n",
    "max_features='sqrt',\n",
    "max_depth=20,\n",
    "bootstrap=False)\n",
    "\n",
    "#rfresults = cv(model = rft, X=engintrainx, y=engintrainy, cv=10)\n",
    "rft.fit(engintrainx, engintrainy)"
   ]
  },
  {
   "cell_type": "code",
   "execution_count": 17,
   "metadata": {},
   "outputs": [
    {
     "data": {
      "text/plain": [
       "0.7145187601957586"
      ]
     },
     "execution_count": 17,
     "metadata": {},
     "output_type": "execute_result"
    }
   ],
   "source": [
    "from sklearn.metrics import accuracy_score\n",
    "preds = rft.predict(engintestx)\n",
    "accuracy_score(engintesty, preds)"
   ]
  },
  {
   "cell_type": "code",
   "execution_count": 18,
   "metadata": {},
   "outputs": [
    {
     "data": {
      "text/plain": [
       "([0, 1, 2, 3, 4, 5, 6, 7, 8, 9, 10, 11, 12, 13, 14, 15, 16, 17],\n",
       " [Text(0, 0, 'player1_age'),\n",
       "  Text(1, 0, 'player2_age'),\n",
       "  Text(2, 0, 'player1_ht'),\n",
       "  Text(3, 0, 'player2_ht'),\n",
       "  Text(4, 0, 'player1_rank'),\n",
       "  Text(5, 0, 'player2_rank'),\n",
       "  Text(6, 0, 'player1_h2h'),\n",
       "  Text(7, 0, 'player2_h2h'),\n",
       "  Text(8, 0, 'surface'),\n",
       "  Text(9, 0, 'tourney_level'),\n",
       "  Text(10, 0, 'player_1_recent_form'),\n",
       "  Text(11, 0, 'player_2_recent_form'),\n",
       "  Text(12, 0, 'player_1_theta_form'),\n",
       "  Text(13, 0, 'player_2_theta_form'),\n",
       "  Text(14, 0, 'player1_surface_win_pct'),\n",
       "  Text(15, 0, 'player2_surface_win_pct'),\n",
       "  Text(16, 0, 'player1_level_win_pct'),\n",
       "  Text(17, 0, 'player2_level_win_pct')])"
      ]
     },
     "execution_count": 18,
     "metadata": {},
     "output_type": "execute_result"
    },
    {
     "data": {
      "image/png": "[encoded data removed]",
      "text/plain": [
       "<Figure size 640x480 with 1 Axes>"
      ]
     },
     "metadata": {},
     "output_type": "display_data"
    }
   ],
   "source": [
    "import matplotlib.pyplot as plt\n",
    "plt.bar(engintrainx.columns, rft.feature_importances_)\n",
    "plt.title(\"Feature importance per RF model\")\n",
    "plt.xticks(rotation=90)"
   ]
  },
  {
   "cell_type": "code",
   "execution_count": 52,
   "metadata": {},
   "outputs": [],
   "source": [
    "xgb = xgboost.XGBClassifier()"
   ]
  },
  {
   "cell_type": "code",
   "execution_count": 53,
   "metadata": {},
   "outputs": [
    {
     "data": {
      "text/html": [
       "<style>#sk-container-id-3 {color: black;background-color: white;}#sk-container-id-3 pre{padding: 0;}#sk-container-id-3 div.sk-toggleable {background-color: white;}#sk-container-id-3 label.sk-toggleable__label {cursor: pointer;display: block;width: 100%;margin-bottom: 0;padding: 0.3em;box-sizing: border-box;text-align: center;}#sk-container-id-3 label.sk-toggleable__label-arrow:before {content: \"▸\";float: left;margin-right: 0.25em;color: #696969;}#sk-container-id-3 label.sk-toggleable__label-arrow:hover:before {color: black;}#sk-container-id-3 div.sk-estimator:hover label.sk-toggleable__label-arrow:before {color: black;}#sk-container-id-3 div.sk-toggleable__content {max-height: 0;max-width: 0;overflow: hidden;text-align: left;background-color: #f0f8ff;}#sk-container-id-3 div.sk-toggleable__content pre {margin: 0.2em;color: black;border-radius: 0.25em;background-color: #f0f8ff;}#sk-container-id-3 input.sk-toggleable__control:checked~div.sk-toggleable__content {max-height: 200px;max-width: 100%;overflow: auto;}#sk-container-id-3 input.sk-toggleable__control:checked~label.sk-toggleable__label-arrow:before {content: \"▾\";}#sk-container-id-3 div.sk-estimator input.sk-toggleable__control:checked~label.sk-toggleable__label {background-color: #d4ebff;}#sk-container-id-3 div.sk-label input.sk-toggleable__control:checked~label.sk-toggleable__label {background-color: #d4ebff;}#sk-container-id-3 input.sk-hidden--visually {border: 0;clip: rect(1px 1px 1px 1px);clip: rect(1px, 1px, 1px, 1px);height: 1px;margin: -1px;overflow: hidden;padding: 0;position: absolute;width: 1px;}#sk-container-id-3 div.sk-estimator {font-family: monospace;background-color: #f0f8ff;border: 1px dotted black;border-radius: 0.25em;box-sizing: border-box;margin-bottom: 0.5em;}#sk-container-id-3 div.sk-estimator:hover {background-color: #d4ebff;}#sk-container-id-3 div.sk-parallel-item::after {content: \"\";width: 100%;border-bottom: 1px solid gray;flex-grow: 1;}#sk-container-id-3 div.sk-label:hover label.sk-toggleable__label {background-color: #d4ebff;}#sk-container-id-3 div.sk-serial::before {content: \"\";position: absolute;border-left: 1px solid gray;box-sizing: border-box;top: 0;bottom: 0;left: 50%;z-index: 0;}#sk-container-id-3 div.sk-serial {display: flex;flex-direction: column;align-items: center;background-color: white;padding-right: 0.2em;padding-left: 0.2em;position: relative;}#sk-container-id-3 div.sk-item {position: relative;z-index: 1;}#sk-container-id-3 div.sk-parallel {display: flex;align-items: stretch;justify-content: center;background-color: white;position: relative;}#sk-container-id-3 div.sk-item::before, #sk-container-id-3 div.sk-parallel-item::before {content: \"\";position: absolute;border-left: 1px solid gray;box-sizing: border-box;top: 0;bottom: 0;left: 50%;z-index: -1;}#sk-container-id-3 div.sk-parallel-item {display: flex;flex-direction: column;z-index: 1;position: relative;background-color: white;}#sk-container-id-3 div.sk-parallel-item:first-child::after {align-self: flex-end;width: 50%;}#sk-container-id-3 div.sk-parallel-item:last-child::after {align-self: flex-start;width: 50%;}#sk-container-id-3 div.sk-parallel-item:only-child::after {width: 0;}#sk-container-id-3 div.sk-dashed-wrapped {border: 1px dashed gray;margin: 0 0.4em 0.5em 0.4em;box-sizing: border-box;padding-bottom: 0.4em;background-color: white;}#sk-container-id-3 div.sk-label label {font-family: monospace;font-weight: bold;display: inline-block;line-height: 1.2em;}#sk-container-id-3 div.sk-label-container {text-align: center;}#sk-container-id-3 div.sk-container {/* jupyter's `normalize.less` sets `[hidden] { display: none; }` but bootstrap.min.css set `[hidden] { display: none !important; }` so we also need the `!important` here to be able to override the default hidden behavior on the sphinx rendered scikit-learn.org. See: https://github.com/scikit-learn/scikit-learn/issues/21755 */display: inline-block !important;position: relative;}#sk-container-id-3 div.sk-text-repr-fallback {display: none;}</style><div id=\"sk-container-id-3\" class=\"sk-top-container\"><div class=\"sk-text-repr-fallback\"><pre>XGBClassifier(base_score=0.5, booster=&#x27;gbtree&#x27;, callbacks=None,\n",
       "              colsample_bylevel=1, colsample_bynode=1, colsample_bytree=1,\n",
       "              early_stopping_rounds=None, enable_categorical=False,\n",
       "              eval_metric=None, feature_types=None, gamma=0, gpu_id=-1,\n",
       "              grow_policy=&#x27;depthwise&#x27;, importance_type=None,\n",
       "              interaction_constraints=&#x27;&#x27;, learning_rate=0.300000012,\n",
       "              max_bin=256, max_cat_threshold=64, max_cat_to_onehot=4,\n",
       "              max_delta_step=0, max_depth=6, max_leaves=0, min_child_weight=1,\n",
       "              missing=nan, monotone_constraints=&#x27;()&#x27;, n_estimators=100,\n",
       "              n_jobs=0, num_parallel_tree=1, predictor=&#x27;auto&#x27;, random_state=0, ...)</pre><b>In a Jupyter environment, please rerun this cell to show the HTML representation or trust the notebook. <br />On GitHub, the HTML representation is unable to render, please try loading this page with nbviewer.org.</b></div><div class=\"sk-container\" hidden><div class=\"sk-item\"><div class=\"sk-estimator sk-toggleable\"><input class=\"sk-toggleable__control sk-hidden--visually\" id=\"sk-estimator-id-3\" type=\"checkbox\" checked><label for=\"sk-estimator-id-3\" class=\"sk-toggleable__label sk-toggleable__label-arrow\">XGBClassifier</label><div class=\"sk-toggleable__content\"><pre>XGBClassifier(base_score=0.5, booster=&#x27;gbtree&#x27;, callbacks=None,\n",
       "              colsample_bylevel=1, colsample_bynode=1, colsample_bytree=1,\n",
       "              early_stopping_rounds=None, enable_categorical=False,\n",
       "              eval_metric=None, feature_types=None, gamma=0, gpu_id=-1,\n",
       "              grow_policy=&#x27;depthwise&#x27;, importance_type=None,\n",
       "              interaction_constraints=&#x27;&#x27;, learning_rate=0.300000012,\n",
       "              max_bin=256, max_cat_threshold=64, max_cat_to_onehot=4,\n",
       "              max_delta_step=0, max_depth=6, max_leaves=0, min_child_weight=1,\n",
       "              missing=nan, monotone_constraints=&#x27;()&#x27;, n_estimators=100,\n",
       "              n_jobs=0, num_parallel_tree=1, predictor=&#x27;auto&#x27;, random_state=0, ...)</pre></div></div></div></div></div>"
      ],
      "text/plain": [
       "XGBClassifier(base_score=0.5, booster='gbtree', callbacks=None,\n",
       "              colsample_bylevel=1, colsample_bynode=1, colsample_bytree=1,\n",
       "              early_stopping_rounds=None, enable_categorical=False,\n",
       "              eval_metric=None, feature_types=None, gamma=0, gpu_id=-1,\n",
       "              grow_policy='depthwise', importance_type=None,\n",
       "              interaction_constraints='', learning_rate=0.300000012,\n",
       "              max_bin=256, max_cat_threshold=64, max_cat_to_onehot=4,\n",
       "              max_delta_step=0, max_depth=6, max_leaves=0, min_child_weight=1,\n",
       "              missing=nan, monotone_constraints='()', n_estimators=100,\n",
       "              n_jobs=0, num_parallel_tree=1, predictor='auto', random_state=0, ...)"
      ]
     },
     "execution_count": 53,
     "metadata": {},
     "output_type": "execute_result"
    }
   ],
   "source": [
    "xgb.fit(engintrainx, engintrainy)"
   ]
  },
  {
   "cell_type": "code",
   "execution_count": 54,
   "metadata": {},
   "outputs": [
    {
     "data": {
      "text/plain": [
       "0.7058183795541055"
      ]
     },
     "execution_count": 54,
     "metadata": {},
     "output_type": "execute_result"
    }
   ],
   "source": [
    "xgp = xgb.predict(engintestx)\n",
    "accuracy_score(engintesty, xgp)"
   ]
  },
  {
   "cell_type": "code",
   "execution_count": 57,
   "metadata": {},
   "outputs": [],
   "source": [
    "xgresults = cv(model=xgb, X = engintrainx, y = engintrainy, cv=10)"
   ]
  },
  {
   "cell_type": "code",
   "execution_count": 58,
   "metadata": {},
   "outputs": [
    {
     "data": {
      "text/plain": [
       "{'Mean Training Accuracy': 87.50192855538357,\n",
       " 'Mean Training Precision': 0.8764518335586476,\n",
       " 'Mean Training Recall': 0.8618470839953345,\n",
       " 'Mean Training F1 Score': 0.8690761737191626,\n",
       " 'Mean Validation Accuracy': 69.81447669921333,\n",
       " 'Mean Validation Precision': 0.6923276307544588,\n",
       " 'Mean Validation Recall': 0.6712663064380875,\n",
       " 'Mean Validation F1 Score': 0.681597650664727,\n",
       " 'model': {'fit_time': array([0.97175598, 1.08520031, 0.93712306, 0.83781505, 0.84688687,\n",
       "         0.86784101, 0.85187197, 0.87049699, 0.83535004, 0.85668683]),\n",
       "  'score_time': array([0.00398207, 0.00464773, 0.00352001, 0.00353384, 0.00537133,\n",
       "         0.00438094, 0.00380015, 0.00439072, 0.00631499, 0.0057683 ]),\n",
       "  'estimator': [XGBClassifier(base_score=0.5, booster='gbtree', callbacks=None,\n",
       "                 colsample_bylevel=1, colsample_bynode=1, colsample_bytree=1,\n",
       "                 early_stopping_rounds=None, enable_categorical=False,\n",
       "                 eval_metric=None, feature_types=None, gamma=0, gpu_id=-1,\n",
       "                 grow_policy='depthwise', importance_type=None,\n",
       "                 interaction_constraints='', learning_rate=0.300000012,\n",
       "                 max_bin=256, max_cat_threshold=64, max_cat_to_onehot=4,\n",
       "                 max_delta_step=0, max_depth=6, max_leaves=0, min_child_weight=1,\n",
       "                 missing=nan, monotone_constraints='()', n_estimators=100,\n",
       "                 n_jobs=0, num_parallel_tree=1, predictor='auto', random_state=0, ...),\n",
       "   XGBClassifier(base_score=0.5, booster='gbtree', callbacks=None,\n",
       "                 colsample_bylevel=1, colsample_bynode=1, colsample_bytree=1,\n",
       "                 early_stopping_rounds=None, enable_categorical=False,\n",
       "                 eval_metric=None, feature_types=None, gamma=0, gpu_id=-1,\n",
       "                 grow_policy='depthwise', importance_type=None,\n",
       "                 interaction_constraints='', learning_rate=0.300000012,\n",
       "                 max_bin=256, max_cat_threshold=64, max_cat_to_onehot=4,\n",
       "                 max_delta_step=0, max_depth=6, max_leaves=0, min_child_weight=1,\n",
       "                 missing=nan, monotone_constraints='()', n_estimators=100,\n",
       "                 n_jobs=0, num_parallel_tree=1, predictor='auto', random_state=0, ...),\n",
       "   XGBClassifier(base_score=0.5, booster='gbtree', callbacks=None,\n",
       "                 colsample_bylevel=1, colsample_bynode=1, colsample_bytree=1,\n",
       "                 early_stopping_rounds=None, enable_categorical=False,\n",
       "                 eval_metric=None, feature_types=None, gamma=0, gpu_id=-1,\n",
       "                 grow_policy='depthwise', importance_type=None,\n",
       "                 interaction_constraints='', learning_rate=0.300000012,\n",
       "                 max_bin=256, max_cat_threshold=64, max_cat_to_onehot=4,\n",
       "                 max_delta_step=0, max_depth=6, max_leaves=0, min_child_weight=1,\n",
       "                 missing=nan, monotone_constraints='()', n_estimators=100,\n",
       "                 n_jobs=0, num_parallel_tree=1, predictor='auto', random_state=0, ...),\n",
       "   XGBClassifier(base_score=0.5, booster='gbtree', callbacks=None,\n",
       "                 colsample_bylevel=1, colsample_bynode=1, colsample_bytree=1,\n",
       "                 early_stopping_rounds=None, enable_categorical=False,\n",
       "                 eval_metric=None, feature_types=None, gamma=0, gpu_id=-1,\n",
       "                 grow_policy='depthwise', importance_type=None,\n",
       "                 interaction_constraints='', learning_rate=0.300000012,\n",
       "                 max_bin=256, max_cat_threshold=64, max_cat_to_onehot=4,\n",
       "                 max_delta_step=0, max_depth=6, max_leaves=0, min_child_weight=1,\n",
       "                 missing=nan, monotone_constraints='()', n_estimators=100,\n",
       "                 n_jobs=0, num_parallel_tree=1, predictor='auto', random_state=0, ...),\n",
       "   XGBClassifier(base_score=0.5, booster='gbtree', callbacks=None,\n",
       "                 colsample_bylevel=1, colsample_bynode=1, colsample_bytree=1,\n",
       "                 early_stopping_rounds=None, enable_categorical=False,\n",
       "                 eval_metric=None, feature_types=None, gamma=0, gpu_id=-1,\n",
       "                 grow_policy='depthwise', importance_type=None,\n",
       "                 interaction_constraints='', learning_rate=0.300000012,\n",
       "                 max_bin=256, max_cat_threshold=64, max_cat_to_onehot=4,\n",
       "                 max_delta_step=0, max_depth=6, max_leaves=0, min_child_weight=1,\n",
       "                 missing=nan, monotone_constraints='()', n_estimators=100,\n",
       "                 n_jobs=0, num_parallel_tree=1, predictor='auto', random_state=0, ...),\n",
       "   XGBClassifier(base_score=0.5, booster='gbtree', callbacks=None,\n",
       "                 colsample_bylevel=1, colsample_bynode=1, colsample_bytree=1,\n",
       "                 early_stopping_rounds=None, enable_categorical=False,\n",
       "                 eval_metric=None, feature_types=None, gamma=0, gpu_id=-1,\n",
       "                 grow_policy='depthwise', importance_type=None,\n",
       "                 interaction_constraints='', learning_rate=0.300000012,\n",
       "                 max_bin=256, max_cat_threshold=64, max_cat_to_onehot=4,\n",
       "                 max_delta_step=0, max_depth=6, max_leaves=0, min_child_weight=1,\n",
       "                 missing=nan, monotone_constraints='()', n_estimators=100,\n",
       "                 n_jobs=0, num_parallel_tree=1, predictor='auto', random_state=0, ...),\n",
       "   XGBClassifier(base_score=0.5, booster='gbtree', callbacks=None,\n",
       "                 colsample_bylevel=1, colsample_bynode=1, colsample_bytree=1,\n",
       "                 early_stopping_rounds=None, enable_categorical=False,\n",
       "                 eval_metric=None, feature_types=None, gamma=0, gpu_id=-1,\n",
       "                 grow_policy='depthwise', importance_type=None,\n",
       "                 interaction_constraints='', learning_rate=0.300000012,\n",
       "                 max_bin=256, max_cat_threshold=64, max_cat_to_onehot=4,\n",
       "                 max_delta_step=0, max_depth=6, max_leaves=0, min_child_weight=1,\n",
       "                 missing=nan, monotone_constraints='()', n_estimators=100,\n",
       "                 n_jobs=0, num_parallel_tree=1, predictor='auto', random_state=0, ...),\n",
       "   XGBClassifier(base_score=0.5, booster='gbtree', callbacks=None,\n",
       "                 colsample_bylevel=1, colsample_bynode=1, colsample_bytree=1,\n",
       "                 early_stopping_rounds=None, enable_categorical=False,\n",
       "                 eval_metric=None, feature_types=None, gamma=0, gpu_id=-1,\n",
       "                 grow_policy='depthwise', importance_type=None,\n",
       "                 interaction_constraints='', learning_rate=0.300000012,\n",
       "                 max_bin=256, max_cat_threshold=64, max_cat_to_onehot=4,\n",
       "                 max_delta_step=0, max_depth=6, max_leaves=0, min_child_weight=1,\n",
       "                 missing=nan, monotone_constraints='()', n_estimators=100,\n",
       "                 n_jobs=0, num_parallel_tree=1, predictor='auto', random_state=0, ...),\n",
       "   XGBClassifier(base_score=0.5, booster='gbtree', callbacks=None,\n",
       "                 colsample_bylevel=1, colsample_bynode=1, colsample_bytree=1,\n",
       "                 early_stopping_rounds=None, enable_categorical=False,\n",
       "                 eval_metric=None, feature_types=None, gamma=0, gpu_id=-1,\n",
       "                 grow_policy='depthwise', importance_type=None,\n",
       "                 interaction_constraints='', learning_rate=0.300000012,\n",
       "                 max_bin=256, max_cat_threshold=64, max_cat_to_onehot=4,\n",
       "                 max_delta_step=0, max_depth=6, max_leaves=0, min_child_weight=1,\n",
       "                 missing=nan, monotone_constraints='()', n_estimators=100,\n",
       "                 n_jobs=0, num_parallel_tree=1, predictor='auto', random_state=0, ...),\n",
       "   XGBClassifier(base_score=0.5, booster='gbtree', callbacks=None,\n",
       "                 colsample_bylevel=1, colsample_bynode=1, colsample_bytree=1,\n",
       "                 early_stopping_rounds=None, enable_categorical=False,\n",
       "                 eval_metric=None, feature_types=None, gamma=0, gpu_id=-1,\n",
       "                 grow_policy='depthwise', importance_type=None,\n",
       "                 interaction_constraints='', learning_rate=0.300000012,\n",
       "                 max_bin=256, max_cat_threshold=64, max_cat_to_onehot=4,\n",
       "                 max_delta_step=0, max_depth=6, max_leaves=0, min_child_weight=1,\n",
       "                 missing=nan, monotone_constraints='()', n_estimators=100,\n",
       "                 n_jobs=0, num_parallel_tree=1, predictor='auto', random_state=0, ...)],\n",
       "  'test_accuracy': array([0.70410628, 0.70694864, 0.69003021, 0.69546828, 0.70453172,\n",
       "         0.68640483, 0.71238671, 0.6918429 , 0.70090634, 0.68882175]),\n",
       "  'train_accuracy': array([0.8727761 , 0.87755102, 0.88547261, 0.875     , 0.87372449,\n",
       "         0.88097476, 0.87553706, 0.87285177, 0.86855532, 0.86774973]),\n",
       "  'test_precision': array([0.70117955, 0.70365535, 0.68393782, 0.68614994, 0.69493671,\n",
       "         0.68193717, 0.70603338, 0.68239796, 0.6998672 , 0.68318123]),\n",
       "  'train_precision': array([0.87705504, 0.87764905, 0.88113839, 0.87688157, 0.87272727,\n",
       "         0.8847854 , 0.87787887, 0.87484018, 0.87358464, 0.86797793]),\n",
       "  'test_recall': array([0.67126725, 0.67628607, 0.66248432, 0.67754078, 0.68883312,\n",
       "         0.65370138, 0.69008783, 0.67211055, 0.6620603 , 0.65829146]),\n",
       "  'train_recall': array([0.85564854, 0.86638773, 0.88089261, 0.86122734, 0.86359833,\n",
       "         0.86541144, 0.86122734, 0.85873658, 0.84995119, 0.85538976]),\n",
       "  'test_f1': array([0.68589744, 0.6896993 , 0.67304015, 0.68181818, 0.69187146,\n",
       "         0.66752082, 0.69796954, 0.67721519, 0.68043899, 0.67050544]),\n",
       "  'train_f1': array([0.86621956, 0.87198203, 0.88101548, 0.86898396, 0.8681388 ,\n",
       "         0.87499119, 0.86947339, 0.86671358, 0.86160588, 0.86163787])}}"
      ]
     },
     "execution_count": 58,
     "metadata": {},
     "output_type": "execute_result"
    }
   ],
   "source": [
    "xgresults"
   ]
  },
  {
   "cell_type": "markdown",
   "metadata": {},
   "source": [
    "#### Exploring the confidence metric using logistic regression. Is it needed or does rank cover it well enough?"
   ]
  },
  {
   "cell_type": "code",
   "execution_count": 26,
   "metadata": {},
   "outputs": [
    {
     "name": "stderr",
     "output_type": "stream",
     "text": [
      "/var/folders/f8/n3c9f3d91gl0y1xv3gycqn8c0000gn/T/ipykernel_136/3266163630.py:37: SettingWithCopyWarning: \n",
      "A value is trying to be set on a copy of a slice from a DataFrame.\n",
      "Try using .loc[row_indexer,col_indexer] = value instead\n",
      "\n",
      "See the caveats in the documentation: https://pandas.pydata.org/pandas-docs/stable/user_guide/indexing.html#returning-a-view-versus-a-copy\n",
      "  enginxwith['surface'] = le.fit_transform(enginx['surface'])\n",
      "/var/folders/f8/n3c9f3d91gl0y1xv3gycqn8c0000gn/T/ipykernel_136/3266163630.py:38: SettingWithCopyWarning: \n",
      "A value is trying to be set on a copy of a slice from a DataFrame.\n",
      "Try using .loc[row_indexer,col_indexer] = value instead\n",
      "\n",
      "See the caveats in the documentation: https://pandas.pydata.org/pandas-docs/stable/user_guide/indexing.html#returning-a-view-versus-a-copy\n",
      "  enginxwith['tourney_level'] = le.fit_transform(enginx['tourney_level'])\n",
      "/var/folders/f8/n3c9f3d91gl0y1xv3gycqn8c0000gn/T/ipykernel_136/3266163630.py:39: SettingWithCopyWarning: \n",
      "A value is trying to be set on a copy of a slice from a DataFrame.\n",
      "Try using .loc[row_indexer,col_indexer] = value instead\n",
      "\n",
      "See the caveats in the documentation: https://pandas.pydata.org/pandas-docs/stable/user_guide/indexing.html#returning-a-view-versus-a-copy\n",
      "  enginxwithout['surface'] = le.fit_transform(enginx['surface'])\n",
      "/var/folders/f8/n3c9f3d91gl0y1xv3gycqn8c0000gn/T/ipykernel_136/3266163630.py:40: SettingWithCopyWarning: \n",
      "A value is trying to be set on a copy of a slice from a DataFrame.\n",
      "Try using .loc[row_indexer,col_indexer] = value instead\n",
      "\n",
      "See the caveats in the documentation: https://pandas.pydata.org/pandas-docs/stable/user_guide/indexing.html#returning-a-view-versus-a-copy\n",
      "  enginxwithout['tourney_level'] = le.fit_transform(enginx['tourney_level'])\n"
     ]
    }
   ],
   "source": [
    "enginxwithout = engin[[\n",
    "    \"player1_age\", \n",
    "    \"player2_age\", \n",
    "    \"player1_ht\", \n",
    "    \"player2_ht\", \n",
    "    \"player1_rank\", \n",
    "    \"player2_rank\", \n",
    "    \"player1_h2h\", \n",
    "    \"player2_h2h\",\n",
    "    \"surface\", \n",
    "    \"tourney_level\",\n",
    "    'player1_surface_win_pct', \n",
    "    'player2_surface_win_pct',\n",
    "    'player1_level_win_pct', \n",
    "    'player2_level_win_pct',]]\n",
    "\n",
    "enginxwith = engin[[\n",
    "    \"player1_age\", \n",
    "    \"player2_age\", \n",
    "    \"player1_ht\", \n",
    "    \"player2_ht\", \n",
    "    \"player1_rank\", \n",
    "    \"player2_rank\", \n",
    "    \"player1_h2h\", \n",
    "    \"player2_h2h\",\n",
    "    \"surface\", \n",
    "    \"tourney_level\",\n",
    "    \"player_1_theta_form\",\n",
    "    \"player_2_theta_form\",\n",
    "    'player1_surface_win_pct', \n",
    "    'player2_surface_win_pct',\n",
    "    'player1_level_win_pct', \n",
    "    'player2_level_win_pct',]]\n",
    "\n",
    "enginy = engin['maptarget']\n",
    "\n",
    "enginxwith['surface'] = le.fit_transform(enginx['surface'])\n",
    "enginxwith['tourney_level'] = le.fit_transform(enginx['tourney_level'])\n",
    "enginxwithout['surface'] = le.fit_transform(enginx['surface'])\n",
    "enginxwithout['tourney_level'] = le.fit_transform(enginx['tourney_level'])"
   ]
  },
  {
   "cell_type": "code",
   "execution_count": 27,
   "metadata": {},
   "outputs": [],
   "source": [
    "engintrainxwith, engintestxwith, engintrainy, engintesty = train_test_split(enginxwith, enginy, test_size=0.25, random_state=5323)\n",
    "engintrainxwithout, engintestxwithout, engintrainy, engintesty = train_test_split(enginxwithout, enginy, test_size=0.25, random_state=5323)"
   ]
  },
  {
   "cell_type": "code",
   "execution_count": 29,
   "metadata": {},
   "outputs": [
    {
     "name": "stdout",
     "output_type": "stream",
     "text": [
      "Optimization terminated successfully.\n",
      "         Current function value: 0.560295\n",
      "         Iterations 6\n",
      "Optimization terminated successfully.\n",
      "         Current function value: 0.560925\n",
      "         Iterations 6\n"
     ]
    }
   ],
   "source": [
    "from statsmodels.api import Logit\n",
    "\n",
    "logitwith = Logit(engintrainy.astype(int),engintrainxwith).fit()\n",
    "logitwithout = Logit(engintrainy.astype(int),engintrainxwithout).fit()"
   ]
  },
  {
   "cell_type": "code",
   "execution_count": 34,
   "metadata": {},
   "outputs": [
    {
     "name": "stdout",
     "output_type": "stream",
     "text": [
      "0.7098060540148632\n",
      "0.7092622802247598\n"
     ]
    }
   ],
   "source": [
    "predswith = logitwith.predict(engintestxwith)\n",
    "predswith = list(map(round,predswith))\n",
    "print(accuracy_score(engintesty, predswith))\n",
    "predswithout = logitwithout.predict(engintestxwithout)\n",
    "predswithout = list(map(round,predswithout))\n",
    "print(accuracy_score(engintesty, predswithout))"
   ]
  },
  {
   "cell_type": "code",
   "execution_count": 30,
   "metadata": {},
   "outputs": [
    {
     "name": "stdout",
     "output_type": "stream",
     "text": [
      "                           Logit Regression Results                           \n",
      "==============================================================================\n",
      "Dep. Variable:              maptarget   No. Observations:                16551\n",
      "Model:                          Logit   Df Residuals:                    16535\n",
      "Method:                           MLE   Df Model:                           15\n",
      "Date:                Tue, 15 Nov 2022   Pseudo R-squ.:                  0.1909\n",
      "Time:                        18:18:11   Log-Likelihood:                -9273.4\n",
      "converged:                       True   LL-Null:                       -11461.\n",
      "Covariance Type:            nonrobust   LLR p-value:                     0.000\n",
      "===========================================================================================\n",
      "                              coef    std err          z      P>|z|      [0.025      0.975]\n",
      "-------------------------------------------------------------------------------------------\n",
      "player1_age                 0.0556      0.005     10.361      0.000       0.045       0.066\n",
      "player2_age                -0.0575      0.005    -10.519      0.000      -0.068      -0.047\n",
      "player1_ht                  0.0009      0.002      0.459      0.646      -0.003       0.005\n",
      "player2_ht                 -0.0011      0.002     -0.557      0.578      -0.005       0.003\n",
      "player1_rank                0.0021      0.000      6.202      0.000       0.001       0.003\n",
      "player2_rank               -0.0022      0.000     -5.611      0.000      -0.003      -0.001\n",
      "player1_h2h                -0.0115      0.010     -1.141      0.254      -0.031       0.008\n",
      "player2_h2h                 0.0323      0.010      3.077      0.002       0.012       0.053\n",
      "surface                     0.0146      0.019      0.783      0.434      -0.022       0.051\n",
      "tourney_level               0.0056      0.011      0.494      0.621      -0.017       0.028\n",
      "player_1_theta_form        -0.1878      0.041     -4.535      0.000      -0.269      -0.107\n",
      "player_2_theta_form         0.1883      0.165      1.139      0.255      -0.136       0.512\n",
      "player1_surface_win_pct    -3.3446      0.220    -15.208      0.000      -3.776      -2.914\n",
      "player2_surface_win_pct     3.6468      0.230     15.827      0.000       3.195       4.098\n",
      "player1_level_win_pct      -2.6228      0.215    -12.209      0.000      -3.044      -2.202\n",
      "player2_level_win_pct       2.4549      0.225     10.894      0.000       2.013       2.897\n",
      "===========================================================================================\n"
     ]
    }
   ],
   "source": [
    "print(logitwith.summary())"
   ]
  },
  {
   "cell_type": "code",
   "execution_count": 31,
   "metadata": {},
   "outputs": [
    {
     "name": "stdout",
     "output_type": "stream",
     "text": [
      "                           Logit Regression Results                           \n",
      "==============================================================================\n",
      "Dep. Variable:              maptarget   No. Observations:                16551\n",
      "Model:                          Logit   Df Residuals:                    16537\n",
      "Method:                           MLE   Df Model:                           13\n",
      "Date:                Tue, 15 Nov 2022   Pseudo R-squ.:                  0.1899\n",
      "Time:                        18:18:21   Log-Likelihood:                -9283.9\n",
      "converged:                       True   LL-Null:                       -11461.\n",
      "Covariance Type:            nonrobust   LLR p-value:                     0.000\n",
      "===========================================================================================\n",
      "                              coef    std err          z      P>|z|      [0.025      0.975]\n",
      "-------------------------------------------------------------------------------------------\n",
      "player1_age                 0.0591      0.005     11.139      0.000       0.049       0.069\n",
      "player2_age                -0.0573      0.005    -10.693      0.000      -0.068      -0.047\n",
      "player1_ht                  0.0006      0.002      0.300      0.764      -0.003       0.005\n",
      "player2_ht                 -0.0011      0.002     -0.532      0.595      -0.005       0.003\n",
      "player1_rank                0.0024      0.000      7.136      0.000       0.002       0.003\n",
      "player2_rank               -0.0023      0.000     -5.959      0.000      -0.003      -0.002\n",
      "player1_h2h                -0.0136      0.010     -1.360      0.174      -0.033       0.006\n",
      "player2_h2h                 0.0327      0.010      3.134      0.002       0.012       0.053\n",
      "surface                     0.0184      0.019      0.988      0.323      -0.018       0.055\n",
      "tourney_level              -0.0001      0.011     -0.010      0.992      -0.021       0.021\n",
      "player1_surface_win_pct    -3.5209      0.217    -16.248      0.000      -3.946      -3.096\n",
      "player2_surface_win_pct     3.6867      0.215     17.182      0.000       3.266       4.107\n",
      "player1_level_win_pct      -2.7940      0.213    -13.135      0.000      -3.211      -2.377\n",
      "player2_level_win_pct       2.5584      0.210     12.168      0.000       2.146       2.970\n",
      "===========================================================================================\n"
     ]
    }
   ],
   "source": [
    "print(logitwithout.summary())"
   ]
  },
  {
   "cell_type": "code",
   "execution_count": null,
   "metadata": {},
   "outputs": [],
   "source": []
  }
 ],
 "metadata": {
  "kernelspec": {
   "display_name": "Python 3.10.4 ('tennisnn')",
   "language": "python",
   "name": "python3"
  },
  "language_info": {
   "codemirror_mode": {
    "name": "ipython",
    "version": 3
   },
   "file_extension": ".py",
   "mimetype": "text/x-python",
   "name": "python",
   "nbconvert_exporter": "python",
   "pygments_lexer": "ipython3",
   "version": "3.10.4"
  },
  "orig_nbformat": 4,
  "vscode": {
   "interpreter": {
    "hash": "791a548851e5d0bb19e0f08af09583cabfb25ccb9dae2520d2075e3a1e1d67e5"
   }
  }
 },
 "nbformat": 4,
 "nbformat_minor": 2
}
